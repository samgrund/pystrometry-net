{
 "cells": [
  {
   "cell_type": "code",
   "execution_count": 8,
   "id": "4b79e9bc",
   "metadata": {},
   "outputs": [],
   "source": [
    "from astropy.io import fits\n",
    "from pystrometry.solve import solveField"
   ]
  },
  {
   "cell_type": "code",
   "execution_count": 9,
   "id": "46bd04d9",
   "metadata": {},
   "outputs": [],
   "source": [
    "hdul = fits.open('test-data/60.0s-B-fut_2021-09-28T22-11-04.fits.gz')"
   ]
  },
  {
   "cell_type": "code",
   "execution_count": 10,
   "id": "cc08d463",
   "metadata": {},
   "outputs": [],
   "source": [
    "RA, DEC = hdul[0].header['OBJ-RA']/24 * 360, hdul[0].header['OBJ-DEC']\n",
    "solvedheader = solveField(hdul,RA,DEC)"
   ]
  },
  {
   "cell_type": "code",
   "execution_count": null,
   "id": "83c1d328",
   "metadata": {},
   "outputs": [],
   "source": []
  },
  {
   "cell_type": "code",
   "execution_count": null,
   "id": "d1977b54",
   "metadata": {},
   "outputs": [],
   "source": []
  },
  {
   "cell_type": "code",
   "execution_count": null,
   "id": "c49294e0",
   "metadata": {},
   "outputs": [],
   "source": []
  }
 ],
 "metadata": {
  "kernelspec": {
   "display_name": "Python 3",
   "language": "python",
   "name": "python3"
  },
  "language_info": {
   "codemirror_mode": {
    "name": "ipython",
    "version": 3
   },
   "file_extension": ".py",
   "mimetype": "text/x-python",
   "name": "python",
   "nbconvert_exporter": "python",
   "pygments_lexer": "ipython3",
   "version": "3.9.4"
  }
 },
 "nbformat": 4,
 "nbformat_minor": 5
}
