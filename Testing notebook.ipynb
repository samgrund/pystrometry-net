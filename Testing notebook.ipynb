{
 "cells": [
  {
   "cell_type": "code",
   "execution_count": 1,
   "id": "f6f813b8",
   "metadata": {},
   "outputs": [],
   "source": [
    "from astropy.io import fits\n",
    "from pystrometry import solve"
   ]
  },
  {
   "cell_type": "code",
   "execution_count": 2,
   "id": "4772a0ba",
   "metadata": {},
   "outputs": [],
   "source": [
    "hdul = fits.open('test-data/60.0s-B-fut_2021-09-28T22-11-04.fits.gz')"
   ]
  },
  {
   "cell_type": "code",
   "execution_count": 3,
   "id": "1c045d2b",
   "metadata": {},
   "outputs": [
    {
     "name": "stdout",
     "output_type": "stream",
     "text": [
      "/Users/samuel/Documents/pystrometry-net/pystrometry/tmp/temp.fits\n"
     ]
    }
   ],
   "source": [
    "RA, DEC = hdul[0].header['OBJ-RA']/24 * 360, hdul[0].header['OBJ-DEC']\n",
    "solvedheader = solve.solveField(hdul,RA,DEC)"
   ]
  },
  {
   "cell_type": "code",
   "execution_count": null,
   "id": "e944931e",
   "metadata": {},
   "outputs": [],
   "source": []
  },
  {
   "cell_type": "code",
   "execution_count": null,
   "id": "b92f95b0",
   "metadata": {},
   "outputs": [],
   "source": []
  },
  {
   "cell_type": "code",
   "execution_count": null,
   "id": "b0ec6256",
   "metadata": {},
   "outputs": [],
   "source": []
  }
 ],
 "metadata": {
  "kernelspec": {
   "display_name": "Python 3",
   "language": "python",
   "name": "python3"
  },
  "language_info": {
   "codemirror_mode": {
    "name": "ipython",
    "version": 3
   },
   "file_extension": ".py",
   "mimetype": "text/x-python",
   "name": "python",
   "nbconvert_exporter": "python",
   "pygments_lexer": "ipython3",
   "version": "3.9.4"
  }
 },
 "nbformat": 4,
 "nbformat_minor": 5
}
